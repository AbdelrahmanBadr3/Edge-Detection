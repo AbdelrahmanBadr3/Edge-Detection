{
 "metadata": {
  "language_info": {
   "codemirror_mode": {
    "name": "ipython",
    "version": 3
   },
   "file_extension": ".py",
   "mimetype": "text/x-python",
   "name": "python",
   "nbconvert_exporter": "python",
   "pygments_lexer": "ipython3",
   "version": "3.7.4-final"
  },
  "orig_nbformat": 2,
  "kernelspec": {
   "name": "python3",
   "display_name": "Python 3",
   "language": "python"
  }
 },
 "nbformat": 4,
 "nbformat_minor": 2,
 "cells": [
  {
   "cell_type": "code",
   "execution_count": 2,
   "metadata": {},
   "outputs": [],
   "source": [
    "from PIL import Image\n",
    "import matplotlib.pyplot as plt\n",
    "import numpy as np\n",
    "import time\n"
   ]
  },
  {
   "cell_type": "code",
   "execution_count": 3,
   "metadata": {},
   "outputs": [],
   "source": [
    "def CalculateIntegral(image2D):\n",
    "    integralImage=[]\n",
    "    im = image2D\n",
    "    for i in range(0,im.shape[0]):\n",
    "        integralImage_row=[]\n",
    "        for j in range(0,im.shape[1]):\n",
    "            cornerValue=0\n",
    "            upperValue=0\n",
    "            leftValue=0\n",
    "            value=im[i][j]\n",
    "            if(i!=0):\n",
    "                upperValue=integralImage[i-1][j]\n",
    "            if(j!=0):\n",
    "                leftValue=integralImage_row[j-1]\n",
    "            if(i!=0 and j!=0):\n",
    "                cornerValue=integralImage[i-1][j-1]\n",
    "            integralImage_row.append(value+upperValue+leftValue-cornerValue)\n",
    "        integralImage.append(integralImage_row) \n",
    "    return np.array(integralImage)  "
   ]
  },
  {
   "cell_type": "code",
   "execution_count": 4,
   "metadata": {},
   "outputs": [],
   "source": [
    "def CalculateLocalSum(ii2D,point1,point2):\n",
    "    pA = ii2D[int(point1[0])][int(point1[1])]  \n",
    "    pB = ii2D[int(point2[0])][int(point1[1])]\n",
    "    pC = ii2D[int(point1[0])][int(point2[1])]\n",
    "    pD = ii2D[int(point2[0])][int(point2[1])]\n",
    "    \n",
    "    if(int(point1[0])<0):\n",
    "        pC = 0 \n",
    "        pA = 0\n",
    "    if(int(point1[1])<0):\n",
    "        pB = 0\n",
    "        pA = 0\n",
    "    return pD - (pC+ pB) + pA"
   ]
  },
  {
   "cell_type": "code",
   "execution_count": 5,
   "metadata": {},
   "outputs": [],
   "source": [
    "def EdgeDetect(ii,s):\n",
    "  first_derivate  = np.zeros((ii.shape[0], ii.shape[1]))\n",
    "  second_derivate = np.zeros((ii.shape[0], ii.shape[1]))\n",
    "  if(s % 2 !=0):\n",
    "    p0 = ((s-1)/2,(s-1)/2)\n",
    "    p1 = ((ii.shape[0] - s) + ((s-1)/2),   (ii.shape[1] - s) + ((s-1)/2))\n",
    "  else:\n",
    "    return -1\n",
    "  start_time = time.time()\n",
    "  for i in range(int(p0[0]),int(p1[0])+1):\n",
    "        for j in range(int(p0[1]),int(p1[1])+1 ):\n",
    "          p01 = (i - p0[0] - 1, j - p0[1] - 1)\n",
    "          p11h1 = (i  - 1, j + p0[1])\n",
    "          p02h1 = (i , j - p0[1] - 1)\n",
    "          p11h2 = (i  + p0[0], j -1)\n",
    "          p02h2 = (i- p0[0] - 1 , j )        \n",
    "          p12 = (i + p0[0], j + p0[1])\n",
    "\n",
    "          # first derivative\n",
    "          h1 =  CalculateLocalSum(ii,p01,p11h1) -  CalculateLocalSum(ii,p02h1,p12)\n",
    "          start_time = time.time()\n",
    "          h2 = CalculateLocalSum(ii,p02h2,p12) - CalculateLocalSum(ii,p01,p11h2)\n",
    "          first_derivate[i][j] = int(np.sqrt(h1*h1 + h2*h2))\n",
    "\n",
    "          # second derivative\n",
    "          Led = (s**2) * CalculateLocalSum(ii,(i-1, j-1),(i,j))  - CalculateLocalSum(ii,p01,p12)\n",
    "          second_derivate[i][j]=int(np.abs(Led))  \n",
    "  \n",
    "  first_derivate = np.round((first_derivate/np.amax(first_derivate))*255)\n",
    "  second_derivate = np.round((second_derivate/np.amax(second_derivate))*255)\n",
    "  return [first_derivate,second_derivate]"
   ]
  },
  {
   "cell_type": "code",
   "execution_count": 6,
   "metadata": {},
   "outputs": [],
   "source": [
    "def RefineEdge(ii,s,r):\n",
    "    refine_edge_image= np.zeros((ii.shape[0], ii.shape[1]))\n",
    "    if(s % 2 !=0):\n",
    "        p0 = ((s-1)/2,(s-1)/2)\n",
    "        p1 = ((ii.shape[0] - s) + ((s-1)/2),   (ii.shape[1] - s) + ((s-1)/2))\n",
    "    else:\n",
    "        return -1\n",
    "    for i in range(int(p0[0]),int(p1[0])+1):\n",
    "            for j in range(int(p0[1]),int(p1[1])+1):\n",
    "                p01 = (i - p0[0] - 1, j - p0[1] - 1)        \n",
    "                p12 = (i + p0[0], j + p0[1])\n",
    "                mean_ij = CalculateLocalSum(ii,p01,p12)/(s**2)\n",
    "                i_ij = CalculateLocalSum(ii,(i-1,j-1),(i,j))\n",
    "                if(i_ij > (mean_ij*r)):\n",
    "                    refine_edge_image[i][j] = i_ij\n",
    "                else:\n",
    "                    refine_edge_image[i][j] = 0\n",
    "    refine_edge_image = np.round((refine_edge_image/np.amax(refine_edge_image))*255)\n",
    "    return refine_edge_image\n"
   ]
  },
  {
   "cell_type": "code",
   "execution_count": 1,
   "metadata": {},
   "outputs": [],
   "source": [
    "def convertImage(path):\n",
    "    return np.asarray(Image.open(path).convert('L'))\n"
   ]
  }
 ]
}